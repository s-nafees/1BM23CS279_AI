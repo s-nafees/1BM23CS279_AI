{
 "cells": [
  {
   "cell_type": "code",
   "execution_count": 5,
   "id": "1b6eb518-9ac7-42f4-abc3-ed04e412d719",
   "metadata": {},
   "outputs": [
    {
     "name": "stdin",
     "output_type": "stream",
     "text": [
      "Enter Location of Vacuum (A or B):  A\n",
      "Enter status of A(0 - Clean,1-Dirty):  1\n",
      "Enter status of other room:  1\n"
     ]
    },
    {
     "name": "stdout",
     "output_type": "stream",
     "text": [
      "Initial Location Condition: {'A': '0', 'B': '0'}\n",
      "Vacuum is placed in Location A\n",
      "Location A is Dirty.\n",
      "Cost for CLEANING A: 1\n",
      "Location A has been Cleaned.\n",
      "Location B is Dirty.\n",
      "Moving right to the Location B.\n",
      "COST for moving RIGHT: 2\n",
      "COST for SUCK: 3\n",
      "Location B has been Cleaned.\n",
      "GOAL STATE: \n",
      "{'A': '0', 'B': '0'}\n",
      "Performance Measurement: 3\n"
     ]
    }
   ],
   "source": [
    "def vacuum_world():\n",
    "    # initializing goal_state\n",
    "    # 0 indicates Clean and 1 indicates Dirty\n",
    "    goal_state = {'A': '0', 'B': '0'}\n",
    "    cost = 0\n",
    "\n",
    "    location_input = input(\"Enter Location of Vacuum (A or B): \")  # user_input of location vacuum is placed\n",
    "    status_input = input(\"Enter status of \" + location_input + \"(0 - Clean,1-Dirty): \")  # user_input if location is dirty or clean\n",
    "    status_input_complement = input(\"Enter status of other room: \")\n",
    "\n",
    "    print(\"Initial Location Condition: \" + str(goal_state))\n",
    "\n",
    "    if location_input == 'A':\n",
    "        print(\"Vacuum is placed in Location A\")\n",
    "\n",
    "        if status_input == '1':\n",
    "            print(\"Location A is Dirty.\")\n",
    "            # suck the dirt and mark it as clean\n",
    "            goal_state['A'] = '0'\n",
    "            cost += 1  # cost for suck\n",
    "            print(\"Cost for CLEANING A: \" + str(cost))\n",
    "            print(\"Location A has been Cleaned.\")\n",
    "\n",
    "        else:\n",
    "            print(\"Location A is already clean.\")\n",
    "\n",
    "        if status_input_complement == '1':\n",
    "            print(\"Location B is Dirty.\")\n",
    "            print(\"Moving right to the Location B.\")\n",
    "            cost += 1  # cost for moving right\n",
    "            print(\"COST for moving RIGHT: \" + str(cost))\n",
    "            # suck the dirt and mark it as clean\n",
    "            goal_state['B'] = '0'\n",
    "            cost += 1  # cost for suck\n",
    "            print(\"COST for SUCK: \" + str(cost))\n",
    "            print(\"Location B has been Cleaned.\")\n",
    "        else:\n",
    "            print(\"Location B is already clean.\")\n",
    "            print(\"No action. Cost: \" + str(cost))\n",
    "\n",
    "    else:\n",
    "        print(\"Vacuum is placed in location B\")\n",
    "\n",
    "        if status_input == '1':\n",
    "            print(\"Location B is Dirty.\")\n",
    "            # suck the dirt and mark it as clean\n",
    "            goal_state['B'] = '0'\n",
    "            cost += 1  # cost for suck\n",
    "            print(\"COST for CLEANING: \" + str(cost))\n",
    "            print(\"Location B has been Cleaned.\")\n",
    "        else:\n",
    "            print(\"Location B is already clean.\")\n",
    "\n",
    "        if status_input_complement == '1':\n",
    "            print(\"Location A is Dirty.\")\n",
    "            print(\"Moving LEFT to the Location A.\")\n",
    "            cost += 1  # cost for moving left\n",
    "            print(\"COST for moving LEFT: \" + str(cost))\n",
    "            # suck the dirt and mark it as clean\n",
    "            goal_state['A'] = '0'\n",
    "            cost += 1  # cost for suck\n",
    "            print(\"Cost for SUCK: \" + str(cost))\n",
    "            print(\"Location A has been Cleaned.\")\n",
    "        else:\n",
    "            print(\"Location A is already clean.\")\n",
    "            print(\"No action. Cost: \" + str(cost))\n",
    "\n",
    "    # done cleaning\n",
    "    print(\"GOAL STATE: \")\n",
    "    print(goal_state)\n",
    "    print(\"Performance Measurement: \" + str(cost))\n",
    "\n",
    "\n",
    "# Run the function\n",
    "vacuum_world()\n"
   ]
  },
  {
   "cell_type": "code",
   "execution_count": null,
   "id": "b05bd9ed-5853-41ac-a834-dbbaf22bb2b6",
   "metadata": {},
   "outputs": [],
   "source": []
  }
 ],
 "metadata": {
  "kernelspec": {
   "display_name": "Python [conda env:base] *",
   "language": "python",
   "name": "conda-base-py"
  },
  "language_info": {
   "codemirror_mode": {
    "name": "ipython",
    "version": 3
   },
   "file_extension": ".py",
   "mimetype": "text/x-python",
   "name": "python",
   "nbconvert_exporter": "python",
   "pygments_lexer": "ipython3",
   "version": "3.12.7"
  }
 },
 "nbformat": 4,
 "nbformat_minor": 5
}
