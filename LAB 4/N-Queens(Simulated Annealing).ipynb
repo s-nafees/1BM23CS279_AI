{
 "cells": [
  {
   "cell_type": "code",
   "execution_count": 4,
   "id": "6ab22422-a0e6-4459-9175-72b6bf35094f",
   "metadata": {},
   "outputs": [
    {
     "name": "stdout",
     "output_type": "stream",
     "text": [
      "Iter 1, Temp 995.0000, Cost 1, State [3, 1, 0, 2]\n",
      "Iter 2, Temp 990.0250, Cost 2, State [3, 1, 2, 0]\n",
      "Iter 3, Temp 985.0749, Cost 6, State [3, 2, 1, 0]\n",
      "Iter 4, Temp 980.1495, Cost 4, State [3, 0, 1, 2]\n",
      "Iter 5, Temp 975.2488, Cost 1, State [2, 0, 1, 3]\n",
      "Iter 6, Temp 970.3725, Cost 0, State [2, 0, 3, 1]\n",
      "\n",
      "Final Solution: [2, 0, 3, 1] with Cost: 0\n"
     ]
    }
   ],
   "source": [
    "import math\n",
    "import random\n",
    "\n",
    "def heuristic(state):\n",
    "    n = len(state)\n",
    "    attacks = 0\n",
    "    for i in range(n):\n",
    "        for j in range(i + 1, n):\n",
    "            if state[i] == state[j]:\n",
    "                attacks += 1\n",
    "            if abs(state[i] - state[j]) == abs(i - j):\n",
    "                attacks += 1\n",
    "    return attacks\n",
    "\n",
    "def get_neighbors(state):\n",
    "    neighbors = []\n",
    "    n = len(state)\n",
    "    for i in range(n):\n",
    "        for j in range(i + 1, n):\n",
    "            neighbor = state.copy()\n",
    "            neighbor[i], neighbor[j] = neighbor[j], neighbor[i]\n",
    "            neighbors.append(neighbor)\n",
    "    return neighbors\n",
    "\n",
    "def simulated_annealing(start_state, initial_temp=1000, cooling_rate=0.995, min_temp=1e-3, max_iter=10000):\n",
    "    current = start_state\n",
    "    current_cost = heuristic(current)\n",
    "    temperature = initial_temp\n",
    "    iteration = 0\n",
    "    \n",
    "    while temperature > min_temp and current_cost > 0 and iteration < max_iter:\n",
    "        neighbors = get_neighbors(current)\n",
    "        next_state = random.choice(neighbors)  # pick a random neighbor\n",
    "        next_cost = heuristic(next_state)\n",
    "\n",
    "        delta_cost = next_cost - current_cost\n",
    "\n",
    "        if delta_cost < 0:\n",
    "            # Better solution found, accept it\n",
    "            current = next_state\n",
    "            current_cost = next_cost\n",
    "        else:\n",
    "            # Accept worse solution with some probability\n",
    "            probability = math.exp(-delta_cost / temperature)\n",
    "            if random.random() < probability:\n",
    "                current = next_state\n",
    "                current_cost = next_cost\n",
    "\n",
    "        # Cool down temperature\n",
    "        temperature *= cooling_rate\n",
    "        iteration += 1\n",
    "\n",
    "        # Optionally print progress\n",
    "        print(f\"Iter {iteration}, Temp {temperature:.4f}, Cost {current_cost}, State {current}\")\n",
    "\n",
    "    return current, current_cost\n",
    "\n",
    "# Example usage:\n",
    "initial_state = [3, 1, 2, 0]  # Example 4-queens starting state\n",
    "solution, cost = simulated_annealing(initial_state)\n",
    "print(\"\\nFinal Solution:\", solution, \"with Cost:\", cost)\n"
   ]
  },
  {
   "cell_type": "code",
   "execution_count": null,
   "id": "d68921de-fed0-460e-8a5a-6f4b3005e0d5",
   "metadata": {},
   "outputs": [],
   "source": []
  }
 ],
 "metadata": {
  "kernelspec": {
   "display_name": "Python [conda env:base] *",
   "language": "python",
   "name": "conda-base-py"
  },
  "language_info": {
   "codemirror_mode": {
    "name": "ipython",
    "version": 3
   },
   "file_extension": ".py",
   "mimetype": "text/x-python",
   "name": "python",
   "nbconvert_exporter": "python",
   "pygments_lexer": "ipython3",
   "version": "3.12.7"
  }
 },
 "nbformat": 4,
 "nbformat_minor": 5
}
